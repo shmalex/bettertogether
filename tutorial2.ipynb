{
 "cells": [
  {
   "cell_type": "markdown",
   "metadata": {},
   "source": [
    "# Tutorial: Using Doc2Vec to calculate similarity between documents\n",
    "\n",
    "## Overview\n",
    "Duration: 1min\n",
    "\n",
    "This tutorial will show you how to use Doc2Vec to calculate similarity scores between pairs of documents. Doc2Vec is an NLP tool for representing documents as a vector and is a generalizing of the Word2Vec method. \n",
    "\n",
    "Before you start, follow the instructions from [README.md](https://github.com/ucals/bettertogether/blob/master/README.md) to get the PDF documents in your local machine. This corpus, which will be located in `pdfs/` folder, contains ~1,000 documents. They are essays written by OMSCS CS-6460 students in Fall 2018 class."
   ]
  },
  {
   "cell_type": "markdown",
   "metadata": {},
   "source": [
    "### What you'll learn\n",
    "\n",
    "- How to pre-process text, getting it ready to apply NLP tecniques\n",
    "- How to train Doc2Vec model\n",
    "- How to test it by eye, using TextRazor classification API to check if the similarities from our trained model are actually true\n",
    "\n",
    "### What you'll need\n",
    "\n",
    "- The corpora: a collection of PDF files correspondent to Assignments 2, 3 and 4 from OMSCS CS-6460 students\n",
    "- Some basic Python knowledge\n",
    "\n",
    "### Steps:\n",
    "\n",
    "1. Preprocess the text: 10min\n",
    "2. Train Doc2Vec model: 5min\n",
    "3. Test the result: 10min"
   ]
  },
  {
   "cell_type": "markdown",
   "metadata": {},
   "source": [
    "## Step 1: Preprocess the text"
   ]
  },
  {
   "cell_type": "code",
   "execution_count": null,
   "metadata": {},
   "outputs": [],
   "source": []
  },
  {
   "cell_type": "markdown",
   "metadata": {},
   "source": [
    "## Step 2: Train Doc2Vec model"
   ]
  },
  {
   "cell_type": "code",
   "execution_count": null,
   "metadata": {},
   "outputs": [],
   "source": []
  },
  {
   "cell_type": "markdown",
   "metadata": {},
   "source": [
    "## Step 3: Test the result"
   ]
  },
  {
   "cell_type": "code",
   "execution_count": null,
   "metadata": {},
   "outputs": [],
   "source": []
  },
  {
   "cell_type": "markdown",
   "metadata": {},
   "source": [
    "### Next steps\n",
    "\n",
    "* If you need support, the [snapcraft forum](https://forum.snapcraft.io) is the best place to get\n",
    "  all your questions answered and get in touch with the community.\n",
    "\n",
    "### Further readings\n",
    "\n",
    "* The snapcraft documention has everything you need if you want to look more\n",
    "  into [hooks](https://docs.snapcraft.io/build-snaps/hooks)\n",
    "  and [scriptlets](https://docs.snapcraft.io/build-snaps/scriptlers)."
   ]
  }
 ],
 "metadata": {
  "kernelspec": {
   "display_name": "Python 3",
   "language": "python",
   "name": "python3"
  },
  "language_info": {
   "codemirror_mode": {
    "name": "ipython",
    "version": 3
   },
   "file_extension": ".py",
   "mimetype": "text/x-python",
   "name": "python",
   "nbconvert_exporter": "python",
   "pygments_lexer": "ipython3",
   "version": "3.7.0"
  }
 },
 "nbformat": 4,
 "nbformat_minor": 2
}
